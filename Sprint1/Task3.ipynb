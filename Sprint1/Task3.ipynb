{
 "cells": [
  {
   "cell_type": "markdown",
   "metadata": {},
   "source": [
    "<h1 style=\"color:DodgerBlue\">Индивидальный проект</h1>"
   ]
  },
  {
   "cell_type": "markdown",
   "metadata": {},
   "source": [
    "<h2 style=\"color:DodgerBlue\">Название проекта:</h2>\n",
    "\n",
    "----\n",
    "\n",
    "### Вариант задания \n"
   ]
  },
  {
   "cell_type": "markdown",
   "metadata": {},
   "source": [
    "<h2 style=\"color:DodgerBlue\">Описание проекта:</h2>\n",
    "\n",
    "----\n",
    "\n",
    "[ваш текст]\n",
    "\n",
    "#### Дополнительное задание\n",
    "Добавьте к сущестующим классам конструктора классов с использованием гетторов и сетторов и реализуйте взаимодействие объектов между собой"
   ]
  },
  {
   "cell_type": "markdown",
   "metadata": {},
   "source": [
    "<h2 style=\"color:DodgerBlue\">Реализация:</h2>\n",
    "\n",
    "----"
   ]
  },
  {
   "cell_type": "code",
   "execution_count": 1,
   "metadata": {
    "dotnet_interactive": {
     "language": "csharp"
    },
    "polyglot_notebook": {
     "kernelName": "csharp"
    }
   },
   "outputs": [
    {
     "name": "stdout",
     "output_type": "stream",
     "text": [
      "ID клиента: 1. Тип доставки: Стандартная доставка. Стоимость: 400Р\n",
      "Среднее время доставки: 7 дней.\n",
      "\n",
      "ID клиента: 2. Тип доставки: Экспресс доставка. Стоимость: 960Р\n",
      "Минимальное время доставки: 24 часа.\n",
      "\n",
      "ID клиента: 3. Тип доставки: Самовывоз. Стоимость: 0Р\n",
      "Адрес пункта самовывоза: Улица Газопромысловая 2.\n",
      "\n",
      "Сравнение стоимости доставки: Стандартная доставка и Экспресс доставка\n",
      "Стандартная доставка дешевле на 560Р.\n"
     ]
    }
   ],
   "source": [
    "public class ShippingOption\n",
    "{\n",
    "    public int DeliveryOptionId { get; set; }\n",
    "    public string DeliveryOptionName { get; set; }\n",
    "    public double Cost { get; set; }\n",
    "\n",
    "    public ShippingOption(int id, string name, double cost)\n",
    "    {\n",
    "        DeliveryOptionId = id;\n",
    "        DeliveryOptionName = name;\n",
    "        Cost = cost;\n",
    "    }\n",
    "\n",
    "    public virtual double CalculateCost() \n",
    "    {\n",
    "        return Cost;\n",
    "    }\n",
    "\n",
    "    public virtual string EstimateDeliveryTime()\n",
    "    {\n",
    "        return \"Срок доставки неизвестен.\";\n",
    "    }\n",
    "\n",
    "    public virtual void GetDeliveryDetails()\n",
    "    {\n",
    "        Console.WriteLine($\"ID клиента: {DeliveryOptionId}. Тип доставки: {DeliveryOptionName}. Стоимость: {CalculateCost()}Р\");\n",
    "    }\n",
    "}\n",
    "\n",
    "public class StandardDelivery : ShippingOption\n",
    "{\n",
    "    public TimeSpan AverageDeliveryTime { get; set; }\n",
    "\n",
    "    public StandardDelivery(int id, string name, double cost, TimeSpan averageDeliveryTime)\n",
    "        : base(id, name, cost)\n",
    "    {\n",
    "        AverageDeliveryTime = averageDeliveryTime;\n",
    "    }\n",
    "\n",
    "    public override string EstimateDeliveryTime()\n",
    "    {\n",
    "        return $\"Среднее время доставки: {AverageDeliveryTime.TotalDays} дней.\\n\";\n",
    "    }\n",
    "}\n",
    "\n",
    "public class ExpressDelivery : ShippingOption\n",
    "{\n",
    "    public TimeSpan MinDeliveryTime { get; set; }\n",
    "\n",
    "    public ExpressDelivery(int id, string name, double cost, TimeSpan minDeliveryTime)\n",
    "        : base(id, name, cost)\n",
    "    {\n",
    "        MinDeliveryTime = minDeliveryTime;\n",
    "    }\n",
    "\n",
    "    public override double CalculateCost() \n",
    "    {\n",
    "        // Увеличиваем стоимость на 20% за ускоренную доставку\n",
    "        return Cost * 1.20; \n",
    "    }\n",
    "\n",
    "    public override string EstimateDeliveryTime()\n",
    "    {\n",
    "        return $\"Минимальное время доставки: {MinDeliveryTime.TotalHours} часа.\\n\";\n",
    "    }\n",
    "\n",
    "}\n",
    "\n",
    "public class Pickup : ShippingOption\n",
    "{\n",
    "    public string PickupAddress { get; set; }\n",
    "\n",
    "    public Pickup(int id, string name, double cost, string pickupAddress)\n",
    "        : base(id, name, cost)\n",
    "    {\n",
    "        PickupAddress = pickupAddress;\n",
    "    }\n",
    "\n",
    "    public override void GetDeliveryDetails()\n",
    "    {\n",
    "        base.GetDeliveryDetails();\n",
    "        Console.WriteLine($\"Адрес пункта самовывоза: {PickupAddress}.\\n\");\n",
    "    }\n",
    "}\n",
    "\n",
    "private static void CompareShippingOptions(ShippingOption optionOne, ShippingOption optionTwo)\n",
    "{\n",
    "    Console.WriteLine($\"Сравнение стоимости доставки: {optionOne.DeliveryOptionName} и {optionTwo.DeliveryOptionName}\");\n",
    "    \n",
    "    if (optionOne.CalculateCost() < optionTwo.CalculateCost())\n",
    "        Console.WriteLine($\"{optionOne.DeliveryOptionName} дешевле на {optionTwo.CalculateCost() - optionOne.CalculateCost()}Р.\");\n",
    "    else if (optionOne.CalculateCost() > optionTwo.CalculateCost())\n",
    "        Console.WriteLine($\"{optionTwo.DeliveryOptionName} дешевле на {optionOne.CalculateCost() - optionTwo.CalculateCost()}Р.\");\n",
    "    else\n",
    "        Console.WriteLine(\"Обе доставки имеют одинаковую стоимость.\");\n",
    "}\n",
    "\n",
    "ShippingOption standard = new StandardDelivery(1, \"Стандартная доставка\", 400.0, TimeSpan.FromDays(7));\n",
    "ShippingOption express = new ExpressDelivery(2, \"Экспресс доставка\", 800.0, TimeSpan.FromHours(24));\n",
    "ShippingOption pickup = new Pickup(3, \"Самовывоз\", 0.0, \"Улица Газопромысловая 2\");\n",
    "\n",
    "standard.GetDeliveryDetails();\n",
    "Console.WriteLine(standard.EstimateDeliveryTime());\n",
    "\n",
    "express.GetDeliveryDetails();\n",
    "Console.WriteLine(express.EstimateDeliveryTime());\n",
    "\n",
    "pickup.GetDeliveryDetails();\n",
    "\n",
    "CompareShippingOptions(standard, express);"
   ]
  }
 ],
 "metadata": {
  "kernelspec": {
   "display_name": ".NET (C#)",
   "language": "C#",
   "name": ".net-csharp"
  },
  "polyglot_notebook": {
   "kernelInfo": {
    "defaultKernelName": "csharp",
    "items": [
     {
      "aliases": [],
      "languageName": "csharp",
      "name": "csharp"
     }
    ]
   }
  }
 },
 "nbformat": 4,
 "nbformat_minor": 2
}
